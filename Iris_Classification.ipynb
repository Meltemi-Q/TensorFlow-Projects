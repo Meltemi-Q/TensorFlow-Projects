{
  "nbformat": 4,
  "nbformat_minor": 0,
  "metadata": {
    "colab": {
      "name": "Iris_Classification.ipynb",
      "version": "0.3.2",
      "provenance": [],
      "collapsed_sections": []
    },
    "kernelspec": {
      "name": "python3",
      "display_name": "Python 3"
    }
  },
  "cells": [
    {
      "metadata": {
        "id": "3K6owcJtB23q",
        "colab_type": "code",
        "colab": {
          "base_uri": "https://localhost:8080/",
          "height": 51
        },
        "outputId": "25eafc75-e56a-46ff-a7bc-db472accde22"
      },
      "cell_type": "code",
      "source": [
        "# The Iris classification problem\n",
        "# https://github.com/tensorflow/models/blob/master/samples/core/tutorials/eager/custom_training_walkthrough.ipynb\n",
        "\n",
        "# Setup the Program\n",
        "# Configure imports and eager execution\n",
        "# Trained in Google Colab\n",
        "\n",
        "from __future__ import absolute_import, division, print_function\n",
        "\n",
        "import os\n",
        "import matplotlib.pyplot as plt\n",
        "\n",
        "import tensorflow as tf\n",
        "import tensorflow.contrib.eager as tfe\n",
        "\n",
        "tf.enable_eager_execution()\n",
        "\n",
        "print(\"TensorFlow Version: {}\".format(tf.VERSION))\n",
        "print(\"Eager Execution: {}\".format(tf.executing_eagerly()))\n"
      ],
      "execution_count": 1,
      "outputs": [
        {
          "output_type": "stream",
          "text": [
            "TensorFlow Version: 1.10.0-rc1\n",
            "Eager Execution: True\n"
          ],
          "name": "stdout"
        }
      ]
    },
    {
      "metadata": {
        "id": "No-TV0aYDxNe",
        "colab_type": "code",
        "colab": {
          "base_uri": "https://localhost:8080/",
          "height": 34
        },
        "outputId": "4e7c8200-e76e-4b3a-a914-b64055f22c13"
      },
      "cell_type": "code",
      "source": [
        "# Import and parse the training dataset\n",
        "## Download the dataset file and convert it into a structure that can be used by this Python program.\n",
        "\n",
        "# Download the dataset\n",
        "## Download the training dataset file using the tf.keras.utils.get_file function. This returns the file path of the downloaded file.\n",
        "\n",
        "train_dataset_url = \"http://download.tensorflow.org/data/iris_training.csv\"\n",
        "\n",
        "train_dataset_file_path = tf.keras.utils.get_file(fname = os.path.basename(train_dataset_url), origin = train_dataset_url)\n",
        "\n",
        "print(\"Local copy of dataset: {}\".format(train_dataset_url))"
      ],
      "execution_count": 2,
      "outputs": [
        {
          "output_type": "stream",
          "text": [
            "Local copy of dataset: http://download.tensorflow.org/data/iris_training.csv\n"
          ],
          "name": "stdout"
        }
      ]
    },
    {
      "metadata": {
        "id": "tGPGUE5aGXb4",
        "colab_type": "code",
        "colab": {
          "base_uri": "https://localhost:8080/",
          "height": 102
        },
        "outputId": "2f730668-3c86-4f49-a079-edbdb549a51d"
      },
      "cell_type": "code",
      "source": [
        "# Inspect the data\n",
        "# Use the head -n5 command to take a peak at the first five entries\n",
        "\n",
        "!head -n5 {train_dataset_file_path}\n"
      ],
      "execution_count": 3,
      "outputs": [
        {
          "output_type": "stream",
          "text": [
            "120,4,setosa,versicolor,virginica\r\n",
            "6.4,2.8,5.6,2.2,2\r\n",
            "5.0,2.3,3.3,1.0,1\r\n",
            "4.9,2.5,4.5,1.7,2\r\n",
            "4.9,3.1,1.5,0.1,0\r\n"
          ],
          "name": "stdout"
        }
      ]
    },
    {
      "metadata": {
        "id": "u-tHgNKmG-ZM",
        "colab_type": "code",
        "colab": {
          "base_uri": "https://localhost:8080/",
          "height": 51
        },
        "outputId": "87a99f8f-e82a-4105-9f68-e5a5925f631c"
      },
      "cell_type": "code",
      "source": [
        "# column order in CSV file\n",
        "column_names = ['sepal_length', 'sepal_width', 'petal_length', 'petal_width', 'species']\n",
        "feature_names = column_names[:-1]\n",
        "label_names = column_names[-1]\n",
        "\n",
        "print(\"feature names: {}\".format(feature_names))\n",
        "print(\"label names: {}\".format(label_names))"
      ],
      "execution_count": 4,
      "outputs": [
        {
          "output_type": "stream",
          "text": [
            "feature names: ['sepal_length', 'sepal_width', 'petal_length', 'petal_width']\n",
            "label names: species\n"
          ],
          "name": "stdout"
        }
      ]
    },
    {
      "metadata": {
        "id": "31CjsA-OE6J8",
        "colab_type": "code",
        "colab": {}
      },
      "cell_type": "code",
      "source": [
        "# 0: Iris setosa\n",
        "# 1: Iris versicolor\n",
        "# 2: Iris virginica\n",
        "class_name = ['Iris setosa', 'Iris versicolor', 'Iris virginica']\n"
      ],
      "execution_count": 0,
      "outputs": []
    },
    {
      "metadata": {
        "id": "4y_aEL9JFn6h",
        "colab_type": "code",
        "colab": {}
      },
      "cell_type": "code",
      "source": [
        "# Create a tf.data.Dataset\n",
        "\n",
        "batch_size = 32\n",
        "\n",
        "train_dataset = tf.contrib.data.make_csv_dataset(train_dataset_file_path, \n",
        "                                      batch_size, \n",
        "                                      label_name = label_names, \n",
        "                                      column_names = column_names, \n",
        "                                      num_epochs = 1)"
      ],
      "execution_count": 0,
      "outputs": []
    },
    {
      "metadata": {
        "id": "Hf8xL0TtIfIh",
        "colab_type": "code",
        "colab": {
          "base_uri": "https://localhost:8080/",
          "height": 357
        },
        "outputId": "5c32573f-51bc-4146-d331-0950f4a54294"
      },
      "cell_type": "code",
      "source": [
        "# With eager execution enabled, these Dataset objects are iterable.\n",
        "features, labels = next(iter(train_dataset))\n",
        "features\n"
      ],
      "execution_count": 7,
      "outputs": [
        {
          "output_type": "execute_result",
          "data": {
            "text/plain": [
              "OrderedDict([('sepal_length',\n",
              "              <tf.Tensor: id=60, shape=(32,), dtype=float32, numpy=\n",
              "              array([5.6, 4.9, 5.8, 5.1, 4.6, 5.7, 5.4, 5. , 6. , 6.9, 5.4, 6. , 5.5,\n",
              "                     5.9, 6. , 6.7, 7.2, 4.9, 6.4, 5. , 5.8, 6.3, 6.5, 4.8, 6.3, 4.6,\n",
              "                     5.4, 6.3, 6.1, 5.8, 6.7, 6. ], dtype=float32)>),\n",
              "             ('sepal_width',\n",
              "              <tf.Tensor: id=61, shape=(32,), dtype=float32, numpy=\n",
              "              array([2.7, 2.4, 2.7, 3.8, 3.6, 2.8, 3. , 3.2, 2.2, 3.1, 3.9, 3. , 2.4,\n",
              "                     3. , 2.9, 3.1, 3.2, 2.5, 2.8, 3.5, 2.7, 2.7, 2.8, 3.4, 2.5, 3.1,\n",
              "                     3.9, 2.3, 2.8, 2.7, 3.1, 2.7], dtype=float32)>),\n",
              "             ('petal_length',\n",
              "              <tf.Tensor: id=58, shape=(32,), dtype=float32, numpy=\n",
              "              array([4.2, 3.3, 5.1, 1.6, 1. , 4.1, 4.5, 1.2, 5. , 5.1, 1.3, 4.8, 3.8,\n",
              "                     5.1, 4.5, 4.4, 6. , 4.5, 5.6, 1.6, 5.1, 4.9, 4.6, 1.6, 5. , 1.5,\n",
              "                     1.7, 4.4, 4. , 4.1, 5.6, 5.1], dtype=float32)>),\n",
              "             ('petal_width',\n",
              "              <tf.Tensor: id=59, shape=(32,), dtype=float32, numpy=\n",
              "              array([1.3, 1. , 1.9, 0.2, 0.2, 1.3, 1.5, 0.2, 1.5, 2.3, 0.4, 1.8, 1.1,\n",
              "                     1.8, 1.5, 1.4, 1.8, 1.7, 2.2, 0.6, 1.9, 1.8, 1.5, 0.2, 1.9, 0.2,\n",
              "                     0.4, 1.3, 1.3, 1. , 2.4, 1.6], dtype=float32)>)])"
            ]
          },
          "metadata": {
            "tags": []
          },
          "execution_count": 7
        }
      ]
    },
    {
      "metadata": {
        "id": "jA2lIX5QJHDu",
        "colab_type": "code",
        "colab": {
          "base_uri": "https://localhost:8080/",
          "height": 378
        },
        "outputId": "6ceea37f-430c-4c13-c4d8-2fb7fe4768e1"
      },
      "cell_type": "code",
      "source": [
        "# clusters by plotting a few features from the batch\n",
        "plt.scatter(features['petal_length'], \n",
        "           features['sepal_length'], \n",
        "           c = labels,\n",
        "           cmap='viridis')\n",
        "\n",
        "plt.xlabel('petal_length')\n",
        "plt.ylabel('sepal_length')"
      ],
      "execution_count": 8,
      "outputs": [
        {
          "output_type": "execute_result",
          "data": {
            "text/plain": [
              "Text(0,0.5,'sepal_length')"
            ]
          },
          "metadata": {
            "tags": []
          },
          "execution_count": 8
        },
        {
          "output_type": "display_data",
          "data": {
            "image/png": "[encoded data removed]",
            "text/plain": [
              "<matplotlib.figure.Figure at 0x7fe743dcfa90>"
            ]
          },
          "metadata": {
            "tags": []
          }
        }
      ]
    },
    {
      "metadata": {
        "id": "qKo97A4bJ68F",
        "colab_type": "code",
        "colab": {}
      },
      "cell_type": "code",
      "source": [
        "# create a function to repackage the features dictionary into a single array with shape: (batch_size, num_features)\n",
        "# This function uses the tf.stack method which takes values from a list of tensors and creates a combined tensor at the specified dimension.\n",
        "def pack_feature_vector(features, labels):\n",
        "  # pack the features into a single array\n",
        "  features = tf.stack(list(features.values()), axis = 1)\n",
        "  return features, labels"
      ],
      "execution_count": 0,
      "outputs": []
    },
    {
      "metadata": {
        "id": "v308y3kRKmw0",
        "colab_type": "code",
        "colab": {}
      },
      "cell_type": "code",
      "source": [
        "# Then use the tf.data.Dataset.map method to pack the features of each (features,label) pair into the training dataset\n",
        "train_dataset = train_dataset.map(pack_feature_vector)\n"
      ],
      "execution_count": 0,
      "outputs": []
    },
    {
      "metadata": {
        "id": "0o1ZP8TjLJcq",
        "colab_type": "code",
        "colab": {
          "base_uri": "https://localhost:8080/",
          "height": 119
        },
        "outputId": "44610d5d-fc15-493f-f69f-b6b7e5a8709a"
      },
      "cell_type": "code",
      "source": [
        "# check the results\n",
        "features, labels = next(iter(train_dataset))\n",
        "print(features[:5])"
      ],
      "execution_count": 11,
      "outputs": [
        {
          "output_type": "stream",
          "text": [
            "tf.Tensor(\n",
            "[[5.6 2.9 3.6 1.3]\n",
            " [6.1 2.9 4.7 1.4]\n",
            " [4.5 2.3 1.3 0.3]\n",
            " [7.  3.2 4.7 1.4]\n",
            " [5.1 3.8 1.9 0.4]], shape=(5, 4), dtype=float32)\n"
          ],
          "name": "stdout"
        }
      ]
    },
    {
      "metadata": {
        "id": "ehLfiV6pLZbk",
        "colab_type": "code",
        "colab": {}
      },
      "cell_type": "code",
      "source": [
        "# Create a model using Keras\n",
        "model = tf.keras.Sequential([\n",
        "    tf.keras.layers.Dense(10, activation=tf.nn.relu, input_shape=(4,)),\n",
        "    tf.keras.layers.Dense(10, activation=tf.nn.relu),\n",
        "    tf.keras.layers.Dense(3)\n",
        "])"
      ],
      "execution_count": 0,
      "outputs": []
    },
    {
      "metadata": {
        "id": "ok6y_qZ3LwbT",
        "colab_type": "code",
        "colab": {
          "base_uri": "https://localhost:8080/",
          "height": 119
        },
        "outputId": "71183987-f079-4bd6-8e08-798d5f81381e"
      },
      "cell_type": "code",
      "source": [
        "# Using the model\n",
        "predictions = model(features)\n",
        "predictions[:5]"
      ],
      "execution_count": 13,
      "outputs": [
        {
          "output_type": "execute_result",
          "data": {
            "text/plain": [
              "<tf.Tensor: id=207, shape=(5, 3), dtype=float32, numpy=\n",
              "array([[ 0.6022174 , -0.84608465, -0.16978204],\n",
              "       [ 0.59879875, -0.8756122 , -0.13861334],\n",
              "       [ 0.5448942 , -0.74825543, -0.41758808],\n",
              "       [ 0.70514214, -0.9941317 , -0.19577044],\n",
              "       [ 0.48032114, -1.0012796 , -0.62517655]], dtype=float32)>"
            ]
          },
          "metadata": {
            "tags": []
          },
          "execution_count": 13
        }
      ]
    },
    {
      "metadata": {
        "id": "bcLeyrsIMH9x",
        "colab_type": "code",
        "colab": {
          "base_uri": "https://localhost:8080/",
          "height": 51
        },
        "outputId": "5309607f-b584-4ccc-ac98-43d72a627ebc"
      },
      "cell_type": "code",
      "source": [
        "# To convert these logits to a probability for each class, use the softmax function\n",
        "tf.nn.softmax(predictions[:5])\n",
        "\n",
        "# Taking the tf.argmax across classes gives us the predicted class index\n",
        "print(\"Prediction: {}\".format(tf.argmax(predictions, axis=1)))\n",
        "print(\"    Labels: {}\".format(labels))"
      ],
      "execution_count": 14,
      "outputs": [
        {
          "output_type": "stream",
          "text": [
            "Prediction: [0 0 0 0 0 0 0 0 0 0 0 0 0 0 0 0 0 0 0 0 0 0 0 0 0 0 0 0 0 0 0 0]\n",
            "    Labels: [1 1 0 1 0 2 2 2 0 0 0 1 1 2 2 2 2 0 0 0 1 2 2 1 1 2 0 0 1 0 1 2]\n"
          ],
          "name": "stdout"
        }
      ]
    },
    {
      "metadata": {
        "id": "HScyK5J7Me94",
        "colab_type": "code",
        "colab": {
          "base_uri": "https://localhost:8080/",
          "height": 34
        },
        "outputId": "e5d12a41-ff77-4feb-e433-818a09f2b9e4"
      },
      "cell_type": "code",
      "source": [
        "# Train the model\n",
        "# Define the loss and gradient function\n",
        "def loss(x, y, model):\n",
        "  y_ = model(x)\n",
        "  return tf.losses.sparse_softmax_cross_entropy(labels=y, logits=y_)\n",
        "\n",
        "l = loss(features, labels, model)\n",
        "print(\"Loss test: {}\".format(l))"
      ],
      "execution_count": 15,
      "outputs": [
        {
          "output_type": "stream",
          "text": [
            "Loss test: 1.17226243019104\n"
          ],
          "name": "stdout"
        }
      ]
    },
    {
      "metadata": {
        "id": "PNbXg75yNJdH",
        "colab_type": "code",
        "colab": {}
      },
      "cell_type": "code",
      "source": [
        "# Use the tf.GradientTape context to calculate the gradients used to optimize our model\n",
        "def grad(model, inputs, targets):\n",
        "  with tf.GradientTape() as tape:\n",
        "    loss_value = loss(inputs, targets, model)\n",
        "  return loss_value, tape.gradient(loss_value, model.trainable_variables)"
      ],
      "execution_count": 0,
      "outputs": []
    },
    {
      "metadata": {
        "id": "Xi9SOIloNkHm",
        "colab_type": "code",
        "colab": {}
      },
      "cell_type": "code",
      "source": [
        "# Create an optimizer\n",
        "optimizer = tf.train.AdamOptimizer(learning_rate=0.01)\n",
        "\n",
        "# setup the optimizer and the global_step counter\n",
        "global_step = tf.train.get_or_create_global_step()\n"
      ],
      "execution_count": 0,
      "outputs": []
    },
    {
      "metadata": {
        "id": "_0SFC-wFO25n",
        "colab_type": "code",
        "colab": {
          "base_uri": "https://localhost:8080/",
          "height": 51
        },
        "outputId": "d6b11c4a-50d5-48c3-82bb-c89ad4861602"
      },
      "cell_type": "code",
      "source": [
        "# calculate a single optimization step\n",
        "loss_value, grads = grad(model, features, labels)\n",
        "\n",
        "print(\"Step: {}, Initial Loss: {}\".format(global_step.numpy(),\n",
        "                                          loss_value.numpy()))\n",
        "\n",
        "optimizer.apply_gradients(zip(grads, model.variables), global_step)\n",
        "print(\"Step: {},         Loss: {}\".format(global_step.numpy(),\n",
        "                                          loss(features, labels, model).numpy()))"
      ],
      "execution_count": 18,
      "outputs": [
        {
          "output_type": "stream",
          "text": [
            "Step: 0, Initial Loss: 1.17226243019104\n",
            "Step: 1,         Loss: 1.0696243047714233\n"
          ],
          "name": "stdout"
        }
      ]
    },
    {
      "metadata": {
        "id": "AIgulGRUhpto",
        "colab_type": "code",
        "colab": {
          "base_uri": "https://localhost:8080/",
          "height": 102
        },
        "outputId": "2fac65e9-d4fa-4f6a-a845-303fcdd851c4"
      },
      "cell_type": "code",
      "source": [
        "# Training loop\n",
        "## Note: Rerunning this cell uses the same model variables\n",
        "\n",
        "# keep results for plotting\n",
        "train_loss_results = []\n",
        "train_accuracy_results = []\n",
        "\n",
        "num_epochs = 201\n",
        "\n",
        "for epoch in range(num_epochs):\n",
        "  epoch_loss_avg = tfe.metrics.Mean()\n",
        "  epoch_accuracy = tfe.metrics.Accuracy()\n",
        "\n",
        "  # Training loop - using batches of 32\n",
        "  for x, y in train_dataset:\n",
        "    # Optimize the model\n",
        "    loss_value, grads = grad(model, x, y)\n",
        "    optimizer.apply_gradients(zip(grads, model.variables),\n",
        "                              global_step)\n",
        "\n",
        "    # Track progress\n",
        "    epoch_loss_avg(loss_value)  # add current batch loss\n",
        "    # compare predicted label to actual label\n",
        "    epoch_accuracy(tf.argmax(model(x), axis=1, output_type=tf.int32), y)\n",
        "\n",
        "  # end epoch\n",
        "  train_loss_results.append(epoch_loss_avg.result())\n",
        "  train_accuracy_results.append(epoch_accuracy.result())\n",
        "  \n",
        "  if epoch % 50 == 0:\n",
        "    print(\"Epoch {:03d}: Loss: {:.3f}, Accuracy: {:.3%}\".format(epoch,\n",
        "                                                                epoch_loss_avg.result(),\n",
        "                                                                epoch_accuracy.result()))"
      ],
      "execution_count": 19,
      "outputs": [
        {
          "output_type": "stream",
          "text": [
            "Epoch 000: Loss: 0.966, Accuracy: 68.333%\n",
            "Epoch 050: Loss: 0.083, Accuracy: 98.333%\n",
            "Epoch 100: Loss: 0.059, Accuracy: 98.333%\n",
            "Epoch 150: Loss: 0.069, Accuracy: 97.500%\n",
            "Epoch 200: Loss: 0.045, Accuracy: 99.167%\n"
          ],
          "name": "stdout"
        }
      ]
    },
    {
      "metadata": {
        "id": "agjvNd2iUGFn",
        "colab_type": "code",
        "colab": {
          "base_uri": "https://localhost:8080/",
          "height": 558
        },
        "outputId": "2fca6455-745d-4253-f452-1d9629b3ef81"
      },
      "cell_type": "code",
      "source": [
        "# Visualize the loss function over time\n",
        "fig, axes = plt.subplots(2, sharex=True, figsize=(12, 8))\n",
        "fig.suptitle('Training Metrics')\n",
        "\n",
        "axes[0].set_ylabel(\"Loss\", fontsize=14)\n",
        "axes[0].plot(train_loss_results)\n",
        "\n",
        "axes[1].set_ylabel(\"Accuracy\", fontsize=14)\n",
        "axes[1].set_xlabel(\"Epoch\", fontsize=14)\n",
        "axes[1].plot(train_accuracy_results);"
      ],
      "execution_count": 20,
      "outputs": [
        {
          "output_type": "display_data",
          "data": {
            "image/png": "[encoded data removed]",
            "text/plain": [
              "<matplotlib.figure.Figure at 0x7fe73fd18ef0>"
            ]
          },
          "metadata": {
            "tags": []
          }
        }
      ]
    },
    {
      "metadata": {
        "id": "Ps3_9dJ3Lodk",
        "colab_type": "code",
        "colab": {}
      },
      "cell_type": "code",
      "source": [
        "# Setup the test dataset\n",
        "test_url = \"http://download.tensorflow.org/data/iris_test.csv\"\n",
        "\n",
        "test_fp = tf.keras.utils.get_file(fname=os.path.basename(test_url),\n",
        "                                  origin=test_url)"
      ],
      "execution_count": 0,
      "outputs": []
    },
    {
      "metadata": {
        "id": "SRMWCu30bnxH",
        "colab_type": "code",
        "colab": {}
      },
      "cell_type": "code",
      "source": [
        "test_dataset = tf.contrib.data.make_csv_dataset(\n",
        "    test_fp,\n",
        "    batch_size, \n",
        "    column_names=column_names,\n",
        "    label_name='species',\n",
        "    num_epochs=1,\n",
        "    shuffle=False)\n",
        "\n",
        "test_dataset = test_dataset.map(pack_feature_vector)"
      ],
      "execution_count": 0,
      "outputs": []
    },
    {
      "metadata": {
        "id": "Tw03-MK1cYId",
        "colab_type": "code",
        "colab": {
          "base_uri": "https://localhost:8080/",
          "height": 34
        },
        "outputId": "29f1a785-2bd3-4973-b664-157eed5c7d61"
      },
      "cell_type": "code",
      "source": [
        "# Evaluate the model on test dataset\n",
        "test_accuracy = tfe.metrics.Accuracy()\n",
        "\n",
        "for (x, y) in test_dataset:\n",
        "  logits = model(x)\n",
        "  prediction = tf.argmax(logits, axis=1, output_type=tf.int32)\n",
        "  test_accuracy(prediction, y)\n",
        "\n",
        "print(\"Test set accuracy: {:.3%}\".format(test_accuracy.result()))"
      ],
      "execution_count": 23,
      "outputs": [
        {
          "output_type": "stream",
          "text": [
            "Test set accuracy: 96.667%\n"
          ],
          "name": "stdout"
        }
      ]
    },
    {
      "metadata": {
        "id": "C2ZbDfOpRKhW",
        "colab_type": "code",
        "colab": {
          "base_uri": "https://localhost:8080/",
          "height": 544
        },
        "outputId": "c2f0e573-28cd-416c-b937-f1fc64d1d855"
      },
      "cell_type": "code",
      "source": [
        "# check last batch\n",
        "tf.stack([y,prediction],axis=1)"
      ],
      "execution_count": 24,
      "outputs": [
        {
          "output_type": "execute_result",
          "data": {
            "text/plain": [
              "<tf.Tensor: id=128146, shape=(30, 2), dtype=int32, numpy=\n",
              "array([[1, 1],\n",
              "       [2, 2],\n",
              "       [0, 0],\n",
              "       [1, 1],\n",
              "       [1, 1],\n",
              "       [1, 1],\n",
              "       [0, 0],\n",
              "       [2, 1],\n",
              "       [1, 1],\n",
              "       [2, 2],\n",
              "       [2, 2],\n",
              "       [0, 0],\n",
              "       [2, 2],\n",
              "       [1, 1],\n",
              "       [1, 1],\n",
              "       [0, 0],\n",
              "       [1, 1],\n",
              "       [0, 0],\n",
              "       [0, 0],\n",
              "       [2, 2],\n",
              "       [0, 0],\n",
              "       [1, 1],\n",
              "       [2, 2],\n",
              "       [1, 1],\n",
              "       [1, 1],\n",
              "       [1, 1],\n",
              "       [0, 0],\n",
              "       [1, 1],\n",
              "       [2, 2],\n",
              "       [1, 1]], dtype=int32)>"
            ]
          },
          "metadata": {
            "tags": []
          },
          "execution_count": 24
        }
      ]
    },
    {
      "metadata": {
        "id": "kesTS5Lzv-M2",
        "colab_type": "code",
        "colab": {
          "base_uri": "https://localhost:8080/",
          "height": 68
        },
        "outputId": "7fd285fc-eff0-4e9c-9938-70e6d7afbd03"
      },
      "cell_type": "code",
      "source": [
        "# Use the trained model to make predictions\n",
        "predict_dataset = tf.convert_to_tensor([\n",
        "    [5.1, 3.3, 1.7, 0.5,],\n",
        "    [5.9, 3.0, 4.2, 1.5,],\n",
        "    [6.9, 3.1, 5.4, 2.1]\n",
        "])\n",
        "\n",
        "predictions = model(predict_dataset)\n",
        "\n",
        "for i, logits in enumerate(predictions):\n",
        "  class_idx = tf.argmax(logits).numpy()\n",
        "  p = tf.nn.softmax(logits)[class_idx]\n",
        "  name = class_name[class_idx]\n",
        "  print(\"Example {} prediction: {} ({:4.1f}%)\".format(i, name, 100*p))"
      ],
      "execution_count": 25,
      "outputs": [
        {
          "output_type": "stream",
          "text": [
            "Example 0 prediction: Iris setosa (99.9%)\n",
            "Example 1 prediction: Iris versicolor (99.9%)\n",
            "Example 2 prediction: Iris virginica (98.6%)\n"
          ],
          "name": "stdout"
        }
      ]
    }
  ]
}