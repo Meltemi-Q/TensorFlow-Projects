{
 "cells": [
  {
   "cell_type": "code",
   "execution_count": 74,
   "metadata": {
    "collapsed": false
   },
   "outputs": [],
   "source": [
    "import numpy as np\n",
    "from sklearn.svm import LinearSVC\n",
    "from sklearn.preprocessing import MinMaxScaler\n",
    "from sklearn.model_selection import train_test_split\n",
    "from sklearn.decomposition import PCA\n",
    "import matplotlib.pyplot as plt"
   ]
  },
  {
   "cell_type": "code",
   "execution_count": 62,
   "metadata": {
    "collapsed": true
   },
   "outputs": [],
   "source": [
    "class OVRSVC():\n",
    "    def __init__(self, **kwargs):\n",
    "        self.c2svc = {}\n",
    "        self.kwargs = kwargs\n",
    "    \n",
    "    def fit(self, X, y):\n",
    "        for c in set(i for i in y):\n",
    "            self.c2svc[c] = LinearSVC(**self.kwargs)\n",
    "            self.c2svc[c].fit(X, y==c)\n",
    "        return self\n",
    "    \n",
    "    def predict(self, X):\n",
    "        confidences = np.zeros((X.shape[0], len(self.c2svc)))\n",
    "        for c, svc in self.c2svc.items():\n",
    "            confidences[:, int(c)] = svc.decision_function(X)\n",
    "        result = confidences.argmax(axis=1)\n",
    "        return result\n",
    "\n",
    "    def score(self, X, y):\n",
    "        result = self.predict(X)\n",
    "        score = (result == y).sum() / len(y)\n",
    "        return score"
   ]
  },
  {
   "cell_type": "code",
   "execution_count": 95,
   "metadata": {
    "collapsed": false
   },
   "outputs": [],
   "source": [
    "scaler = MinMaxScaler(copy=False)\n",
    "\n",
    "X_train = np.load('data_hw2/train_data.npy')\n",
    "y_train = np.load('data_hw2/train_label.npy').astype(int) + 1\n",
    "# X_train, X_dev, y_train, y_dev = train_test_split(X_train, y_train, test_size=0.5)\n",
    "X_test = np.load('data_hw2/test_data.npy')\n",
    "y_test = np.load('data_hw2/test_label.npy').astype(int) + 1\n",
    "\n",
    "scaler.fit(X_train)\n",
    "X_train = scaler.transform(X_train)\n",
    "# X_dev = scaler.transform(X_dev)\n",
    "X_test = scaler.transform(X_test)"
   ]
  },
  {
   "cell_type": "code",
   "execution_count": 97,
   "metadata": {
    "collapsed": false
   },
   "outputs": [
    {
     "name": "stdout",
     "output_type": "stream",
     "text": [
      "(37367, 310) (37367,)\n",
      "CPU times: user 19.6 s, sys: 232 ms, total: 19.9 s\n",
      "Wall time: 19.8 s\n"
     ]
    },
    {
     "data": {
      "text/plain": [
       "<__main__.OVRSVC at 0x7f2fccecbf28>"
      ]
     },
     "execution_count": 97,
     "metadata": {},
     "output_type": "execute_result"
    }
   ],
   "source": [
    "ovr_svc = OVRSVC()\n",
    "%time ovr_svc.fit(X_train, y_train)"
   ]
  },
  {
   "cell_type": "code",
   "execution_count": 99,
   "metadata": {
    "collapsed": false
   },
   "outputs": [
    {
     "data": {
      "text/plain": [
       "0.47446276125993525"
      ]
     },
     "execution_count": 99,
     "metadata": {},
     "output_type": "execute_result"
    }
   ],
   "source": [
    "ovr_svc.score(X_test, y_test)"
   ]
  },
  {
   "cell_type": "code",
   "execution_count": null,
   "metadata": {
    "collapsed": true
   },
   "outputs": [],
   "source": []
  }
 ],
 "metadata": {
  "anaconda-cloud": {},
  "kernelspec": {
   "display_name": "Python [conda env:anaconda3-4.2.0]",
   "language": "python",
   "name": "conda-env-anaconda3-4.2.0-py"
  },
  "language_info": {
   "codemirror_mode": {
    "name": "ipython",
    "version": 3
   },
   "file_extension": ".py",
   "mimetype": "text/x-python",
   "name": "python",
   "nbconvert_exporter": "python",
   "pygments_lexer": "ipython3",
   "version": "3.5.2"
  }
 },
 "nbformat": 4,
 "nbformat_minor": 1
}
