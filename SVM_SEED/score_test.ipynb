{
 "cells": [
  {
   "cell_type": "code",
   "execution_count": 1,
   "metadata": {
    "collapsed": true
   },
   "outputs": [],
   "source": [
    "%matplotlib inline"
   ]
  },
  {
   "cell_type": "code",
   "execution_count": 2,
   "metadata": {
    "collapsed": false
   },
   "outputs": [],
   "source": [
    "import numpy as np\n",
    "from sklearn.svm import LinearSVC, SVC\n",
    "from sklearn.preprocessing import MinMaxScaler\n",
    "from sklearn.model_selection import train_test_split\n",
    "from sklearn.decomposition import PCA\n",
    "import matplotlib.pyplot as plt"
   ]
  },
  {
   "cell_type": "code",
   "execution_count": 21,
   "metadata": {
    "collapsed": true
   },
   "outputs": [],
   "source": [
    "class OVRLSVC():\n",
    "    def __init__(self, **kwargs):\n",
    "        self.c2svc = {}\n",
    "        self.kwargs = kwargs\n",
    "    \n",
    "    def fit(self, X, y):\n",
    "        for c in set(i for i in y):\n",
    "            self.c2svc[c] = LinearSVC(**self.kwargs)\n",
    "            self.c2svc[c].fit(X, y==c)\n",
    "        return self\n",
    "    \n",
    "    def predict(self, X):\n",
    "        confidences = np.zeros((X.shape[0], len(self.c2svc)))\n",
    "        for c, svc in self.c2svc.items():\n",
    "            confidences[:, int(c)] = svc.decision_function(X)\n",
    "        result = confidences.argmax(axis=1)\n",
    "        return result\n",
    "\n",
    "    def score(self, X, y):\n",
    "        result = self.predict(X)\n",
    "        score = (result == y).sum() / len(y)\n",
    "        return score"
   ]
  },
  {
   "cell_type": "code",
   "execution_count": 30,
   "metadata": {
    "collapsed": true
   },
   "outputs": [],
   "source": [
    "class OVRSVC():\n",
    "    def __init__(self, **kwargs):\n",
    "        self.c2svc = {}\n",
    "        self.kwargs = kwargs\n",
    "        \n",
    "    def fit(self, X, y):\n",
    "        for c in set(i for i in y):\n",
    "            self.c2svc[c] = SVC(probability=True, kernel='linear', **self.kwargs)\n",
    "            self.c2svc[c].fit(X, y==c)\n",
    "        return self\n",
    "    \n",
    "    def predict(self, X):\n",
    "        confidences = np.zeros((X.shape[0], len(self.c2svc)))\n",
    "        for c, svc in self.c2svc.items():\n",
    "            confidences[:, int(c)] = svc.predict_proba(X)[:, 1]\n",
    "        result = confidences.argmax(axis=1)\n",
    "        return result\n",
    "\n",
    "    def score(self, X, y):\n",
    "        result = self.predict(X)\n",
    "        score = (result == y).sum() / len(y)\n",
    "        return score"
   ]
  },
  {
   "cell_type": "code",
   "execution_count": 17,
   "metadata": {
    "collapsed": false
   },
   "outputs": [],
   "source": [
    "scaler = MinMaxScaler(copy=False)\n",
    "\n",
    "X_train = np.load('data_hw2/train_data.npy')\n",
    "y_train = np.load('data_hw2/train_label.npy').astype(int) + 1\n",
    "X_train, X_dev, y_train, y_dev = train_test_split(X_train, y_train, test_size=0.2)\n",
    "X_test = np.load('data_hw2/test_data.npy')\n",
    "y_test = np.load('data_hw2/test_label.npy').astype(int) + 1\n",
    "\n",
    "scaler.fit(X_train)\n",
    "X_train = scaler.transform(X_train)\n",
    "X_dev = scaler.transform(X_dev)\n",
    "X_test = scaler.transform(X_test)"
   ]
  },
  {
   "cell_type": "code",
   "execution_count": 7,
   "metadata": {
    "collapsed": false
   },
   "outputs": [
    {
     "data": {
      "text/plain": [
       "SVC(C=1.0, cache_size=200, class_weight=None, coef0=0.0,\n",
       "  decision_function_shape='ovr', degree=3, gamma='auto', kernel='rbf',\n",
       "  max_iter=-1, probability=False, random_state=None, shrinking=True,\n",
       "  tol=0.001, verbose=False)"
      ]
     },
     "execution_count": 7,
     "metadata": {},
     "output_type": "execute_result"
    }
   ],
   "source": [
    "svc = SVC()\n",
    "svc.fit(X_train, y_train)"
   ]
  },
  {
   "cell_type": "code",
   "execution_count": 8,
   "metadata": {
    "collapsed": false
   },
   "outputs": [
    {
     "name": "stdout",
     "output_type": "stream",
     "text": [
      "0.911526212969\n",
      "0.490874300854\n"
     ]
    }
   ],
   "source": [
    "print(svc.score(X_train, y_train))\n",
    "print(svc.score(X_test, y_test))"
   ]
  },
  {
   "cell_type": "code",
   "execution_count": 18,
   "metadata": {
    "collapsed": false
   },
   "outputs": [
    {
     "data": {
      "text/plain": [
       "LinearSVC(C=1.0, class_weight=None, dual=True, fit_intercept=True,\n",
       "     intercept_scaling=1, loss='squared_hinge', max_iter=1000,\n",
       "     multi_class='ovr', penalty='l2', random_state=None, tol=0.0001,\n",
       "     verbose=0)"
      ]
     },
     "execution_count": 18,
     "metadata": {},
     "output_type": "execute_result"
    }
   ],
   "source": [
    "lsvc = LinearSVC()\n",
    "lsvc.fit(X_train, y_train)"
   ]
  },
  {
   "cell_type": "code",
   "execution_count": 31,
   "metadata": {
    "collapsed": false
   },
   "outputs": [
    {
     "name": "stdout",
     "output_type": "stream",
     "text": [
      "1.0\n",
      "1.0\n",
      "0.467324109508\n"
     ]
    }
   ],
   "source": [
    "print(lsvc.score(X_train, y_train))\n",
    "print(lsvc.score(X_dev, y_dev))\n",
    "print(lsvc.score(X_test, y_test))"
   ]
  },
  {
   "cell_type": "code",
   "execution_count": 32,
   "metadata": {
    "collapsed": false
   },
   "outputs": [
    {
     "data": {
      "text/plain": [
       "<__main__.OVRSVC at 0x7fae39f7fb38>"
      ]
     },
     "execution_count": 32,
     "metadata": {},
     "output_type": "execute_result"
    }
   ],
   "source": [
    "ovr_svc = OVRSVC()\n",
    "ovr_svc.fit(X_train, y_train)"
   ]
  },
  {
   "cell_type": "code",
   "execution_count": 33,
   "metadata": {
    "collapsed": false
   },
   "outputs": [
    {
     "name": "stdout",
     "output_type": "stream",
     "text": [
      "0.999464811346\n",
      "0.48057109214\n"
     ]
    }
   ],
   "source": [
    "print(ovr_svc.score(X_dev, y_dev))\n",
    "print(ovr_svc.score(X_test, y_test))"
   ]
  },
  {
   "cell_type": "code",
   "execution_count": 34,
   "metadata": {
    "collapsed": false
   },
   "outputs": [
    {
     "data": {
      "text/plain": [
       "<__main__.OVRLSVC at 0x7fae39f7fc50>"
      ]
     },
     "execution_count": 34,
     "metadata": {},
     "output_type": "execute_result"
    }
   ],
   "source": [
    "ovr_lsvc = OVRLSVC()\n",
    "ovr_lsvc.fit(X_train, y_train)"
   ]
  },
  {
   "cell_type": "code",
   "execution_count": 35,
   "metadata": {
    "collapsed": false
   },
   "outputs": [
    {
     "name": "stdout",
     "output_type": "stream",
     "text": [
      "1.0\n",
      "0.467324109508\n"
     ]
    }
   ],
   "source": [
    "print(ovr_lsvc.score(X_dev, y_dev))\n",
    "print(ovr_lsvc.score(X_test, y_test))"
   ]
  },
  {
   "cell_type": "code",
   "execution_count": null,
   "metadata": {
    "collapsed": true
   },
   "outputs": [],
   "source": []
  }
 ],
 "metadata": {
  "anaconda-cloud": {},
  "kernelspec": {
   "display_name": "Python [conda env:anaconda3-4.2.0]",
   "language": "python",
   "name": "conda-env-anaconda3-4.2.0-py"
  },
  "language_info": {
   "codemirror_mode": {
    "name": "ipython",
    "version": 3
   },
   "file_extension": ".py",
   "mimetype": "text/x-python",
   "name": "python",
   "nbconvert_exporter": "python",
   "pygments_lexer": "ipython3",
   "version": "3.5.2"
  }
 },
 "nbformat": 4,
 "nbformat_minor": 1
}
