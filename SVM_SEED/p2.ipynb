{
 "cells": [
  {
   "cell_type": "code",
   "execution_count": 1,
   "metadata": {
    "collapsed": true
   },
   "outputs": [],
   "source": [
    "%matplotlib inline"
   ]
  },
  {
   "cell_type": "code",
   "execution_count": 2,
   "metadata": {
    "collapsed": false
   },
   "outputs": [],
   "source": [
    "import numpy as np\n",
    "from sklearn.svm import LinearSVC\n",
    "from sklearn.preprocessing import MinMaxScaler\n",
    "from sklearn.model_selection import train_test_split\n",
    "from sklearn.decomposition import PCA\n",
    "import matplotlib.pyplot as plt\n",
    "import math\n",
    "from multiprocessing.pool import Pool\n",
    "import datetime"
   ]
  },
  {
   "cell_type": "code",
   "execution_count": 3,
   "metadata": {
    "collapsed": true
   },
   "outputs": [],
   "source": [
    "class OVRSVC():\n",
    "    def __init__(self, **kwargs):\n",
    "        self.c2svc = {}\n",
    "        self.kwargs = kwargs\n",
    "    \n",
    "    def fit_one(self, dataset):\n",
    "        X = dataset[:, :-1]\n",
    "        y = dataset[:, -1].astype(bool)\n",
    "        svc = LinearSVC(**self.kwargs)\n",
    "        svc.fit(X, y)\n",
    "        return svc\n",
    "    \n",
    "    def fit(self, X, y, num_pos):\n",
    "        for c in set(i for i in y):\n",
    "            self.c2svc[c] = []\n",
    "            X_pos = np.concatenate((np.random.permutation(X[y == c]), np.ones(((y==c).sum(), 1))), axis=1)\n",
    "            X_neg = np.concatenate((np.random.permutation(X[y != c]), np.zeros(((y!=c).sum(), 1))), axis=1)\n",
    "#             num_pos = 10\n",
    "            num_neg = num_pos * 2\n",
    "            step_pos = math.ceil(len(X_pos) // num_pos)\n",
    "            step_neg = math.ceil(len(X_neg) // num_neg)\n",
    "            X_poses = [X_pos[i*step_pos:(i+1)*step_pos] for i in range(num_pos)]\n",
    "            X_neges = [X_neg[j*step_neg:(j+1)*step_neg] for j in range(num_neg)]\n",
    "            svcs = Pool().map(self.fit_one, [np.concatenate((pos, neg)) for pos in X_poses for neg in X_neges])\n",
    "            self.c2svc[c] = [svcs[i*num_neg:(i+1)*num_neg] for i in range(num_pos)]\n",
    "        return self\n",
    "    \n",
    "    def predict(self, X):\n",
    "        global results, confidences\n",
    "        confidences = np.zeros((X.shape[0], len(self.c2svc)))\n",
    "        for c, svcs in self.c2svc.items():\n",
    "            results = []\n",
    "            for svc_same_pos in svcs:\n",
    "                results.append([])\n",
    "                for svc in svc_same_pos:\n",
    "                    results[-1].append(svc.decision_function(X).reshape(1, -1))\n",
    "                results[-1] = np.min(np.concatenate(results[-1], axis=0), axis=0).reshape(1, -1)\n",
    "            confidences[:, int(c)] = np.max(np.concatenate(results, axis=0), axis=0)\n",
    "        result = confidences.argmax(axis=1)\n",
    "        return result\n",
    "\n",
    "    def score(self, X, y):\n",
    "        result = self.predict(X)\n",
    "        score = (result == y).sum() / len(y)\n",
    "        return score"
   ]
  },
  {
   "cell_type": "code",
   "execution_count": 6,
   "metadata": {
    "collapsed": true
   },
   "outputs": [],
   "source": [
    "class OVRSVC():\n",
    "    def __init__(self, **kwargs):\n",
    "        self.c2svc = {}\n",
    "        self.kwargs = kwargs\n",
    "    \n",
    "    def fit_one(self, dataset):\n",
    "        X = dataset[:, :-1]\n",
    "        y = dataset[:, -1].astype(bool)\n",
    "        svc = LinearSVC(**self.kwargs)\n",
    "        svc.fit(X, y)\n",
    "        return svc\n",
    "    \n",
    "    def fit(self, X, y, num_pos):\n",
    "#         num_pos = 5\n",
    "        num_neg = num_pos * 2\n",
    "        X_0 = np.random.permutation(X[y == 0])\n",
    "        step_0 = math.ceil(len(X_0) // num_pos)\n",
    "        X_0s = [X_0[i*step_0:(i+1)*step_0] for i in range(num_pos)]\n",
    "        X_1 = np.random.permutation(X[y == 1])\n",
    "        step_1 = math.ceil(len(X_1) // num_pos)\n",
    "        X_1s = [X_1[i*step_1:(i+1)*step_1] for i in range(num_pos)]\n",
    "        X_2 = np.random.permutation(X[y == 2])\n",
    "        step_2 = math.ceil(len(X_2) // num_pos)\n",
    "        X_2s = [X_2[i*step_2:(i+1)*step_2] for i in range(num_pos)]\n",
    "        \n",
    "        svcs = Pool().map(self.fit_one, [np.concatenate((np.concatenate((pos, np.ones((len(pos), 1))), axis=1), np.concatenate((neg, np.zeros((len(neg), 1))), axis=1))) for pos in X_0s for neg in X_1s + X_2s])\n",
    "        self.c2svc[0] = [svcs[i*num_neg:(i+1)*num_neg] for i in range(num_pos)]\n",
    "        svcs = Pool().map(self.fit_one, [np.concatenate((np.concatenate((pos, np.ones((len(pos), 1))), axis=1), np.concatenate((neg, np.zeros((len(neg), 1))), axis=1))) for pos in X_1s for neg in X_0s + X_2s])\n",
    "        self.c2svc[1] = [svcs[i*num_neg:(i+1)*num_neg] for i in range(num_pos)]\n",
    "        svcs = Pool().map(self.fit_one, [np.concatenate((np.concatenate((pos, np.ones((len(pos), 1))), axis=1), np.concatenate((neg, np.zeros((len(neg), 1))), axis=1))) for pos in X_2s for neg in X_0s + X_1s])\n",
    "        self.c2svc[2] = [svcs[i*num_neg:(i+1)*num_neg] for i in range(num_pos)]\n",
    "        return self\n",
    "    \n",
    "    def predict(self, X):\n",
    "        global results, confidences\n",
    "        confidences = np.zeros((X.shape[0], len(self.c2svc)))\n",
    "        for c, svcs in self.c2svc.items():\n",
    "            results = []\n",
    "            for svc_same_pos in svcs:\n",
    "                results.append([])\n",
    "                for svc in svc_same_pos:\n",
    "                    results[-1].append(svc.decision_function(X).reshape(1, -1))\n",
    "                results[-1] = np.min(np.concatenate(results[-1], axis=0), axis=0).reshape(1, -1)\n",
    "            confidences[:, int(c)] = np.max(np.concatenate(results, axis=0), axis=0)\n",
    "        result = confidences.argmax(axis=1)\n",
    "        return result\n",
    "\n",
    "    def score(self, X, y):\n",
    "        result = self.predict(X)\n",
    "        score = (result == y).sum() / len(y)\n",
    "        return score"
   ]
  },
  {
   "cell_type": "code",
   "execution_count": 4,
   "metadata": {
    "collapsed": false
   },
   "outputs": [],
   "source": [
    "scaler = MinMaxScaler(copy=False)\n",
    "\n",
    "X_train = np.load('data_hw2/train_data.npy')\n",
    "y_train = np.load('data_hw2/train_label.npy').astype(int) + 1\n",
    "# X_train, X_dev, y_train, y_dev = train_test_split(X_train, y_train, test_size=0.5)\n",
    "X_test = np.load('data_hw2/test_data.npy')\n",
    "y_test = np.load('data_hw2/test_label.npy').astype(int) + 1\n",
    "\n",
    "scaler.fit(X_train)\n",
    "X_train = scaler.transform(X_train)\n",
    "# X_dev = scaler.transform(X_dev)\n",
    "X_test = scaler.transform(X_test)"
   ]
  },
  {
   "cell_type": "code",
   "execution_count": 16,
   "metadata": {
    "collapsed": false
   },
   "outputs": [
    {
     "data": {
      "text/plain": [
       "<__main__.OVRSVC at 0x7f390010ce80>"
      ]
     },
     "execution_count": 16,
     "metadata": {},
     "output_type": "execute_result"
    }
   ],
   "source": [
    "ovr_svc = OVRSVC()\n",
    "ovr_svc.fit(X_train, y_train, 3)"
   ]
  },
  {
   "cell_type": "code",
   "execution_count": 6,
   "metadata": {
    "collapsed": false
   },
   "outputs": [
    {
     "data": {
      "text/plain": [
       "array([0, 0, 0, ..., 0, 0, 0])"
      ]
     },
     "execution_count": 6,
     "metadata": {},
     "output_type": "execute_result"
    }
   ],
   "source": [
    "ovr_svc.predict(X_test)"
   ]
  },
  {
   "cell_type": "code",
   "execution_count": 17,
   "metadata": {
    "collapsed": false
   },
   "outputs": [
    {
     "data": {
      "text/plain": [
       "0.48483956432146014"
      ]
     },
     "execution_count": 17,
     "metadata": {},
     "output_type": "execute_result"
    }
   ],
   "source": [
    "ovr_svc.score(X_test, y_test)"
   ]
  },
  {
   "cell_type": "code",
   "execution_count": null,
   "metadata": {
    "collapsed": true
   },
   "outputs": [],
   "source": []
  }
 ],
 "metadata": {
  "anaconda-cloud": {},
  "kernelspec": {
   "display_name": "Python [conda env:anaconda3-4.2.0]",
   "language": "python",
   "name": "conda-env-anaconda3-4.2.0-py"
  },
  "language_info": {
   "codemirror_mode": {
    "name": "ipython",
    "version": 3
   },
   "file_extension": ".py",
   "mimetype": "text/x-python",
   "name": "python",
   "nbconvert_exporter": "python",
   "pygments_lexer": "ipython3",
   "version": "3.5.2"
  }
 },
 "nbformat": 4,
 "nbformat_minor": 1
}
